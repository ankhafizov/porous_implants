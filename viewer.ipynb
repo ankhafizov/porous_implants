{
 "metadata": {
  "language_info": {
   "codemirror_mode": {
    "name": "ipython",
    "version": 3
   },
   "file_extension": ".py",
   "mimetype": "text/x-python",
   "name": "python",
   "nbconvert_exporter": "python",
   "pygments_lexer": "ipython3",
   "version": "3.7.4-final"
  },
  "orig_nbformat": 2,
  "kernelspec": {
   "name": "python3",
   "display_name": "Python 3",
   "language": "python"
  }
 },
 "nbformat": 4,
 "nbformat_minor": 2,
 "cells": [
  {
   "cell_type": "code",
   "execution_count": null,
   "metadata": {},
   "outputs": [],
   "source": [
    "import os\n",
    "import matplotlib.pyplot as plt\n",
    "import h5py\n",
    "import phase_contrast as pc\n",
    "from pathlib import Path\n",
    "import numpy as np\n",
    "from PIL import Image\n",
    "from file_paths import get_path"
   ]
  },
  {
   "cell_type": "code",
   "execution_count": null,
   "metadata": {},
   "outputs": [],
   "source": [
    "from scipy.interpolate import interp1d\n",
    "from helper import crop\n",
    "\n",
    "from scipy.ndimage import zoom\n",
    "from scipy.ndimage.morphology import binary_closing, binary_fill_holes, binary_dilation, distance_transform_edt\n",
    "from skimage.morphology import disk\n",
    "from skimage import measure\n",
    "import scipy.ndimage as ndimage\n",
    "from skimage.segmentation import flood_fill"
   ]
  },
  {
   "cell_type": "code",
   "execution_count": null,
   "metadata": {},
   "outputs": [],
   "source": [
    "from skimage.morphology import extrema\n",
    "import closed_pores_evaluation as cpe\n",
    "from skimage import filters"
   ]
  },
  {
   "cell_type": "code",
   "execution_count": null,
   "metadata": {},
   "outputs": [],
   "source": [
    "import seaborn as sns"
   ]
  },
  {
   "cell_type": "code",
   "execution_count": null,
   "metadata": {},
   "outputs": [],
   "source": [
    "cpe.recount_volumes_to_diameters(3.14)"
   ]
  },
  {
   "cell_type": "code",
   "execution_count": null,
   "metadata": {},
   "outputs": [],
   "source": [
    "SCRIPT_PATH = os.getcwd()\n",
    "PHANTOM_DB_FOLDER_NAME = 'database'\n",
    "TXT_FOULDER_NAME = 'txt_files'\n",
    "FILE_ID = '123495'\n",
    "TXT_FILE_NAME = f'diamond {FILE_ID}.txt'"
   ]
  },
  {
   "cell_type": "code",
   "execution_count": null,
   "metadata": {},
   "outputs": [],
   "source": [
    "def get_img(file_name):\n",
    "    file_path = os.path.join(SCRIPT_PATH, PHANTOM_DB_FOLDER_NAME, file_name)\n",
    "\n",
    "    with h5py.File(file_path, 'r') as hdf:\n",
    "        dataset = hdf.get(name = file_name)\n",
    "        dataset = dataset[()]\n",
    "    return dataset"
   ]
  },
  {
   "cell_type": "code",
   "execution_count": null,
   "metadata": {},
   "outputs": [],
   "source": [
    "def binary_fill_boarders(img, value=0, width=5, orientation='v'):\n",
    "    if orientation =='v':\n",
    "        if value == 0:\n",
    "            mask = np.zeros(img.shape, dtype=int)\n",
    "            mask[:, width:-width] = 1\n",
    "            return img * mask\n",
    "        elif value == 1:\n",
    "            mask = np.ones(img.shape, dtype=int)\n",
    "            mask[:, width:-width] = 0\n",
    "            return img + mask\n",
    "        else:\n",
    "            raise ValueError(\"only values 0 and 1 are accepted\")\n",
    "    elif orientation =='h':\n",
    "        if value == 0:\n",
    "            mask = np.zeros(img.shape, dtype=int)\n",
    "            mask[width:-width, :] = 1\n",
    "            return img * mask\n",
    "        elif value == 1:\n",
    "            mask = np.ones(img.shape, dtype=int)\n",
    "            mask[width:-width, :] = 0\n",
    "            return img + mask\n",
    "        else:\n",
    "            raise ValueError(\"only values 0 and 1 are accepted\")"
   ]
  },
  {
   "cell_type": "code",
   "execution_count": null,
   "metadata": {},
   "outputs": [],
   "source": [
    "def get_2d_slice(num, file_id=FILE_ID):\n",
    "    data_folder = get_path(file_id)\n",
    "\n",
    "    file_names = Path(data_folder).glob('*.tiff')\n",
    "    file_names = list(file_names)\n",
    "    img2d_gray = np.array(Image.open(file_names[num]))\n",
    "\n",
    "    return img2d_gray"
   ]
  },
  {
   "cell_type": "code",
   "execution_count": null,
   "metadata": {},
   "outputs": [],
   "source": [
    "def write_dict_to_file(dict):\n",
    "    for key, value in dict.items():\n",
    "        write_item_to_file(key, value)\n",
    "\n",
    "\n",
    "def write_item_to_file(key, value):\n",
    "    db_folder = os.path.join(SCRIPT_PATH, TXT_FOULDER_NAME)\n",
    "    if not os.path.isdir(db_folder):\n",
    "        os.mkdir(db_folder)\n",
    "\n",
    "    file_path = os.path.join(SCRIPT_PATH, TXT_FOULDER_NAME, TXT_FILE_NAME)\n",
    "    file_txt = open(file_path,\"a\")\n",
    "    file_txt.write(f\"{key} {value} \\n\")\n",
    "    file_txt.close()\n"
   ]
  },
  {
   "cell_type": "code",
   "execution_count": null,
   "metadata": {},
   "outputs": [],
   "source": [
    "k_dictionary ={}"
   ]
  },
  {
   "cell_type": "code",
   "execution_count": null,
   "metadata": {},
   "outputs": [],
   "source": [
    "a = np.asarray([-3, -4, -1, 2, 3, 2, 1, 5, -5, 1])\n",
    "np.argmax(np.abs(np.diff(a > 0)))"
   ]
  },
  {
   "cell_type": "code",
   "execution_count": null,
   "metadata": {},
   "outputs": [],
   "source": [
    "def binary_fill_boarders(img, value=0, width=5, orientation='v'):\n",
    "    if orientation =='v':\n",
    "        if value == 0:\n",
    "            mask = np.zeros(img.shape, dtype=int)\n",
    "            mask[:, width:-width] = 1\n",
    "            return img * mask\n",
    "        elif value == 1:\n",
    "            mask = np.ones(img.shape, dtype=int)\n",
    "            mask[:, width:-width] = 0\n",
    "            return img + mask\n",
    "        else:\n",
    "            raise ValueError(\"only values 0 and 1 are accepted\")\n",
    "    elif orientation =='h':\n",
    "        if value == 0:\n",
    "            mask = np.zeros(img.shape, dtype=int)\n",
    "            mask[width:-width, :] = 1\n",
    "            return img * mask\n",
    "        elif value == 1:\n",
    "            mask = np.ones(img.shape, dtype=int)\n",
    "            mask[width:-width, :] = 0\n",
    "            return img + mask\n",
    "        else:\n",
    "            raise ValueError(\"only values 0 and 1 are accepted\")"
   ]
  },
  {
   "cell_type": "code",
   "execution_count": null,
   "metadata": {},
   "outputs": [],
   "source": [
    "#k_possible_values = [1/10, 1/20, 1/80, 1/100, 1/130, 1/500, 1/300]\n",
    "k_possible_values = [1/2000, 1/500, 1/300, 1/130, 1/10, 1/2, 3, 5, 10, 1000]\n",
    "slice_num = 874\n",
    "k = k_possible_values[0]\n",
    "\n",
    "img2d_gray = get_2d_slice(slice_num, '123495')\n",
    "fig, axes = plt.subplots(3, 4, figsize=(25,15))\n",
    "\n",
    "axes = axes.ravel()\n",
    "axes[0].imshow(img2d_gray, cmap='gray')\n",
    "\n",
    "squares = []\n",
    "for i, k in enumerate(k_possible_values):\n",
    "    bin_img = pc.binarize_slice(img2d_gray, k=k, mu=25e-8)\n",
    "    square = np.sum(bin_img)\n",
    "    squares.append(square)\n",
    "    axes[i+1].imshow(bin_img, cmap='gray')\n",
    "    axes[i+1].set_title(f\"k={k:.3f}, id={i}, s = {square}\")\n",
    "    axes[i+1].axis(\"off\")\n",
    "\n",
    "x_log = np.log(k_possible_values)\n",
    "\n",
    "f2 = interp1d(x_log, squares, kind='quadratic')\n",
    "axes[-1].plot(x_log, squares, '-o', label='original')\n",
    "x_new = np.linspace(np.min(x_log), np.max(x_log), num=100, endpoint=True)\n",
    "y_new = f2(x_new)\n",
    "axes[-1].plot(x_new, y_new, '-', label='interpolated')\n",
    "y_horizental_line = np.percentile(y_new, 55)\n",
    "\n",
    "indx = np.argmax(np.abs(np.diff((y_new - y_horizental_line) > 0)))\n",
    "x_intersection_point = x_new[indx]\n",
    "k_calculated = np.exp(x_intersection_point)\n",
    "axes[-1].axhline(y_horizental_line)\n",
    "axes[-1].plot([x_intersection_point], [y_horizental_line], marker='o', markersize=10, color=\"red\", label=f'k={k_calculated:.3f}')\n",
    "x_ticks = ['1/2000', '1/500', '1/300', '1/130', '1/10', '1/2','3', '5', '10', '1000']\n",
    "plt.xticks(np.log(k_possible_values), x_ticks)\n",
    "axes[-1].grid()\n",
    "axes[-1].legend()\n",
    "\n",
    "plt.tight_layout()"
   ]
  },
  {
   "cell_type": "code",
   "execution_count": null,
   "metadata": {},
   "outputs": [],
   "source": [
    "\n",
    "fig, axes = plt.subplots(figsize=(7, 7))\n",
    "axes.imshow(pc.binarize_slice(img2d_gray, k=k_calculated, mu=25e-8), cmap='gray')\n"
   ]
  },
  {
   "cell_type": "code",
   "execution_count": null,
   "metadata": {},
   "outputs": [],
   "source": [
    "#id = 7\n",
    "#k_dictionary.update({f\"{slice_num}\": k_possible_values[id]})\n",
    "\n",
    "k_dictionary.update({f\"{slice_num}\": k_calculated})"
   ]
  },
  {
   "cell_type": "code",
   "execution_count": null,
   "metadata": {},
   "outputs": [],
   "source": [
    "k_dictionary"
   ]
  },
  {
   "cell_type": "code",
   "execution_count": null,
   "metadata": {},
   "outputs": [],
   "source": [
    "k_dictionary = sorted(k_dictionary.items(), key=lambda item: item[0])\n",
    "k_dictionary = dict(k_dictionary)"
   ]
  },
  {
   "cell_type": "code",
   "execution_count": null,
   "metadata": {},
   "outputs": [],
   "source": [
    "#k_dictionary = {'750': 500, '780': 0.5, '810': 20, '840': 20, '870': 15}\n",
    "k_dictionary"
   ]
  },
  {
   "cell_type": "code",
   "execution_count": null,
   "metadata": {},
   "outputs": [],
   "source": [
    "# backup\n",
    "write_dict_to_file(k_dictionary)\n",
    "k_dictionary = {}"
   ]
  },
  {
   "source": [
    "# _RESULTS_"
   ],
   "cell_type": "markdown",
   "metadata": {}
  },
  {
   "cell_type": "code",
   "execution_count": null,
   "metadata": {},
   "outputs": [],
   "source": [
    "file_id='123497'\n",
    "img3d = get_img(f'{file_id}.h5')"
   ]
  },
  {
   "cell_type": "code",
   "execution_count": null,
   "metadata": {},
   "outputs": [],
   "source": [
    "# 787 = good example\n",
    "num = np.random.randint(0,2120)\n",
    "\n",
    "fig, axes = plt.subplots(1,2, figsize=(20,10))\n",
    "axes[0].imshow(img3d[num], cmap='gray')\n",
    "axes[1].imshow(get_2d_slice(num, file_id), cmap='gray')\n",
    "\n",
    "# for ax in axes:\n",
    "#     ax.axis(\"off\")\n",
    "plt.tight_layout()\n",
    "num"
   ]
  },
  {
   "cell_type": "code",
   "execution_count": null,
   "metadata": {},
   "outputs": [],
   "source": [
    "img2d=img3d[num]"
   ]
  },
  {
   "cell_type": "code",
   "execution_count": null,
   "metadata": {},
   "outputs": [],
   "source": [
    "def get_2d_mask_by_crop(img2d, margin):\n",
    "    mask = np.ones(img2d.shape)\n",
    "    return binary_fill_boarders(mask, value=0, width=margin, orientation='h')"
   ]
  },
  {
   "cell_type": "code",
   "execution_count": null,
   "metadata": {},
   "outputs": [],
   "source": []
  },
  {
   "cell_type": "code",
   "execution_count": null,
   "metadata": {},
   "outputs": [],
   "source": [
    "fig, axes = plt.subplots(1,3, figsize=(20,10))\n",
    "\n",
    "axes[0].imshow(img2d, cmap='gray')\n",
    "\n",
    "margin = 100\n",
    "axes[0].axhline(margin, color=\"red\", lw=5)\n",
    "axes[0].axhline(img2d.shape[0]-margin, color=\"red\", lw=5)\n",
    "axes[1].imshow(get_2d_slice(num, file_id), cmap='gray')\n",
    "\n",
    "axes[2].imshow(img2d*2+get_2d_mask_by_crop(img2d, margin=100), cmap='gray')\n",
    "# for ax in axes:\n",
    "#     ax.axis(\"off\")\n",
    "plt.tight_layout()"
   ]
  },
  {
   "source": [
    "# PORE SIZES SOBEL"
   ],
   "cell_type": "markdown",
   "metadata": {}
  },
  {
   "cell_type": "code",
   "execution_count": null,
   "metadata": {},
   "outputs": [],
   "source": [
    "file_id='123497'\n",
    "# img3d = get_img(f'{file_id}.h5')"
   ]
  },
  {
   "cell_type": "code",
   "execution_count": null,
   "metadata": {},
   "outputs": [],
   "source": [
    "fig, ax = plt.subplots(figsize=(10, 10))\n",
    "num = 500 # 320\n",
    "img2d_grey = get_2d_slice(num, file_id=file_id) # img3d[num]\n",
    "ax.imshow(img2d_grey, cmap=\"gray\")\n",
    "ax.axis(\"off\")"
   ]
  },
  {
   "cell_type": "code",
   "execution_count": null,
   "metadata": {},
   "outputs": [],
   "source": [
    "fig, ax = plt.subplots(figsize=(10, 10))\n",
    "edge_sobel = filters.sobel(img2d_grey)\n",
    "\n",
    "coefs = np.linspace(1,4, 20)\n",
    "thresh = filters.threshold_otsu(edge_sobel)\n",
    "\n",
    "edge_total_volumes = []\n",
    "for coef in coefs:\n",
    "    img2d = edge_sobel > thresh * coef\n",
    "    edge_total_volumes.append(np.sum(img2d))\n",
    "\n",
    "ax.plot(coefs, edge_total_volumes)\n",
    "ax.set_xlabel(\"coefs\")\n",
    "ax.set_ylabel(\"volumes\")\n",
    "# ax.imshow(img2d, cmap=\"gray\")\n",
    "# ax.axis(\"off\")"
   ]
  },
  {
   "cell_type": "code",
   "execution_count": null,
   "metadata": {},
   "outputs": [],
   "source": [
    "fig, ax = plt.subplots(figsize=(10, 10))\n",
    "edge_sobel = filters.sobel(img2d_grey)\n",
    "\n",
    "thresh = filters.threshold_otsu(edge_sobel) * 1.7\n",
    "img2d = binary_fill_holes(edge_sobel > thresh)\n",
    "ax.imshow(img2d, cmap=\"gray\")"
   ]
  },
  {
   "cell_type": "code",
   "execution_count": null,
   "metadata": {},
   "outputs": [],
   "source": [
    "img2d_edges = cpe.filter_pores_mask(img2d,\n",
    "                                    lowest_value=3,\n",
    "                                    highest_value = 225)\n",
    "\n",
    "fig, ax = plt.subplots(figsize=(10, 10))\n",
    "ax.imshow(img2d_edges, cmap=\"gray\")"
   ]
  },
  {
   "cell_type": "code",
   "execution_count": null,
   "metadata": {},
   "outputs": [],
   "source": [
    "fig, ax = plt.subplots(figsize=(10, 10))\n",
    "#ax.imshow(3*img2d+img3d_pseudo_lsv[1], cmap=plt.cm.nipy_spectral)\n",
    "img2d_grey = get_2d_slice(num, file_id=file_id)\n",
    "ax.imshow(img2d_grey, cmap=plt.cm.gray)\n",
    "mask = np.ma.masked_where(img2d_edges < 1, img2d_edges)\n",
    "ax.imshow(mask, cmap='hsv', interpolation='none')\n",
    "ax.axis()"
   ]
  },
  {
   "cell_type": "code",
   "execution_count": null,
   "metadata": {},
   "outputs": [],
   "source": [
    "fig, ax = plt.subplots(figsize=(10, 10))\n",
    "#ax.imshow(3*img2d+img3d_pseudo_lsv[1], cmap=plt.cm.nipy_spectral)\n",
    "window_size = 300\n",
    "img2d_grey = get_2d_slice(num, file_id=file_id)\n",
    "img_2d_gray_frag = crop(img2d_grey, (window_size, window_size), (1500, 2000))\n",
    "ax.imshow(img_2d_gray_frag, cmap=plt.cm.gray)\n",
    "\n",
    "img2d_edges_frag = crop(img2d_edges, (window_size, window_size), (1500, 2000))\n",
    "mask = np.ma.masked_where(img2d_edges_frag < 1, img2d_edges_frag)\n",
    "ax.imshow(mask, cmap='hsv', alpha=0.3, interpolation='none')\n",
    "ax.axis(\"off\")"
   ]
  },
  {
   "cell_type": "code",
   "execution_count": null,
   "metadata": {},
   "outputs": [],
   "source": [
    "cpe.plot_pore_size_histogram(img2d_edges,\n",
    "                             structure_neighbors_num=6,\n",
    "                             size_type=\"volume\",\n",
    "                             num_of_bins=100,\n",
    "                             max_x_value=None,\n",
    "                             min_x_value=5,\n",
    "                             log_scale=False,\n",
    "                             save_plot=False)"
   ]
  },
  {
   "cell_type": "code",
   "execution_count": null,
   "metadata": {},
   "outputs": [],
   "source": [
    "cpe.plot_pore_size_histogram(img2d_edges,\n",
    "                             structure_neighbors_num=6,\n",
    "                             size_type=\"diameter\",\n",
    "                             num_of_bins=100,\n",
    "                             max_x_value=None,\n",
    "                             min_x_value=5,\n",
    "                             log_scale=False,\n",
    "                             save_plot=False)"
   ]
  },
  {
   "source": [
    "# PORE SIZES Percentile"
   ],
   "cell_type": "markdown",
   "metadata": {}
  },
  {
   "cell_type": "code",
   "execution_count": null,
   "metadata": {},
   "outputs": [],
   "source": [
    "file_id='123497'\n",
    "fig, ax = plt.subplots(figsize=(10, 10))\n",
    "num = 500 # 320\n",
    "img2d_grey = get_2d_slice(num, file_id=file_id) # img3d[num]\n",
    "ax.imshow(img2d_grey, cmap=\"gray\")\n",
    "ax.axis(\"off\")"
   ]
  },
  {
   "cell_type": "code",
   "execution_count": null,
   "metadata": {},
   "outputs": [],
   "source": [
    "percentiles = [1, 2, 5, 8] # np.arange(2,10)\n",
    "fig, axes = plt.subplots(ncols=len(percentiles)+1, figsize=(10*len(percentiles)+3, 10))\n",
    "axes = axes.ravel()\n",
    "# thresh_low = np.percentile(img2d_grey.ravel(), low_percentile)\n",
    "\n",
    "edge_total_volumes = []\n",
    "for ax, percentile in zip(axes, percentiles):\n",
    "    img2d = img2d_grey < np.percentile(img2d_grey.ravel(), percentile)\n",
    "    ax.imshow(img2d, cmap=\"gray\")\n",
    "    ax.axis(\"off\")\n",
    "    ax.set_title(f\"percentile {percentile}\")\n",
    "    edge_total_volumes.append(np.sum(img2d))\n",
    "\n",
    "axes[-1].plot(percentiles, edge_total_volumes, '-o')\n",
    "axes[-1].set_xlabel(\"percentiles\")\n",
    "axes[-1].set_ylabel(\"volumes\")\n",
    "axes[-1].grid()\n",
    "\n",
    "plt.tight_layout()\n",
    "# ax.imshow(img2d, cmap=\"gray\")\n",
    "# ax.axis(\"off\")"
   ]
  },
  {
   "cell_type": "code",
   "execution_count": null,
   "metadata": {},
   "outputs": [],
   "source": [
    "fig, axes = plt.subplots(ncols=3, figsize=(30, 15))\n",
    "percentile = 1\n",
    "thresh_low = np.percentile(img2d_grey.ravel(), percentile)\n",
    "\n",
    "img2d = img2d_grey < thresh_low\n",
    "axes[0].imshow(img2d_grey, cmap=\"gray\")\n",
    "axes[1].imshow(img2d, cmap=\"gray\")\n",
    "axes[1].set_title(f\"lower than percentile {percentile}\")\n",
    "\n",
    "axes[2].imshow(binary_fill_holes(img2d), cmap=\"gray\")\n",
    "axes[2].set_title(\"holes filled\")"
   ]
  },
  {
   "cell_type": "code",
   "execution_count": null,
   "metadata": {},
   "outputs": [],
   "source": [
    "max_pore_volume = 225\n",
    "min_pore_volume = 3\n",
    "img2d_edges = cpe.filter_pores_mask(img2d,\n",
    "                                    lowest_value = min_pore_volume,\n",
    "                                    highest_value = max_pore_volume)\n",
    "\n",
    "fig, ax = plt.subplots(figsize=(10, 10))\n",
    "ax.imshow(img2d_edges, cmap=\"gray\")"
   ]
  },
  {
   "cell_type": "code",
   "execution_count": null,
   "metadata": {},
   "outputs": [],
   "source": [
    "fig, ax = plt.subplots(figsize=(10, 10))\n",
    "#ax.imshow(3*img2d+img3d_pseudo_lsv[1], cmap=plt.cm.nipy_spectral)\n",
    "img2d_grey = get_2d_slice(num, file_id=file_id)\n",
    "ax.imshow(img2d_grey, cmap=plt.cm.gray)\n",
    "mask = np.ma.masked_where(img2d_edges < 1, img2d_edges)\n",
    "ax.imshow(mask, cmap='hsv', interpolation='none')\n",
    "ax.axis()"
   ]
  },
  {
   "cell_type": "code",
   "execution_count": null,
   "metadata": {},
   "outputs": [],
   "source": [
    "plots=4\n",
    "fig, axes = plt.subplots(ncols=2, nrows=plots, figsize=(14, 7*plots), constrained_layout=True)\n",
    "fig.suptitle(f'Comparison of random squares. Pore volume: max={max_pore_volume}; min={min_pore_volume}', fontsize=16)\n",
    "axes= axes.ravel()\n",
    "#ax.imshow(3*img2d+img3d_pseudo_lsv[1], cmap=plt.cm.nipy_spectral)\n",
    "window_size = 400\n",
    "\n",
    "for i, ax in enumerate(axes):\n",
    "    if i % 2 == 0:\n",
    "        center_coords = np.asarray([np.random.randint(window_size//2+1, img2d_grey.shape[0]-window_size//2-1),\n",
    "                                    np.random.randint(window_size//2+1, img2d_grey.shape[0]-window_size//2-1)])\n",
    "                                    \n",
    "        img_2d_gray_frag = crop(img2d_grey, (window_size, window_size), center_coords)\n",
    "        ax.imshow(img_2d_gray_frag, cmap=plt.cm.gray)\n",
    "        axes[i+1].imshow(img_2d_gray_frag, cmap=plt.cm.gray)\n",
    "\n",
    "        img2d_edges_frag = crop(img2d_edges, (window_size, window_size), center_coords)\n",
    "        mask = np.ma.masked_where(img2d_edges_frag < 1, img2d_edges_frag)\n",
    "        ax.imshow(mask, cmap='hsv', alpha=0.3, interpolation='none')\n",
    "    ax.axis(\"off\")\n"
   ]
  },
  {
   "cell_type": "code",
   "execution_count": null,
   "metadata": {},
   "outputs": [],
   "source": [
    "cpe.plot_pore_size_histogram(img2d_edges,\n",
    "                             structure_neighbors_num=6,\n",
    "                             size_type=\"volume\",\n",
    "                             num_of_bins=100,\n",
    "                             max_x_value=None,\n",
    "                             min_x_value=5,\n",
    "                             log_scale=False,\n",
    "                             save_plot=False)"
   ]
  },
  {
   "cell_type": "code",
   "execution_count": null,
   "metadata": {},
   "outputs": [],
   "source": [
    "cpe.plot_pore_size_histogram(img2d_edges,\n",
    "                             structure_neighbors_num=6,\n",
    "                             size_type=\"diameter\",\n",
    "                             num_of_bins=100,\n",
    "                             max_x_value=None,\n",
    "                             min_x_value=5,\n",
    "                             log_scale=False,\n",
    "                             save_plot=False)"
   ]
  },
  {
   "cell_type": "code",
   "execution_count": null,
   "metadata": {},
   "outputs": [],
   "source": []
  },
  {
   "source": [
    "# Analytics"
   ],
   "cell_type": "markdown",
   "metadata": {}
  },
  {
   "cell_type": "code",
   "execution_count": null,
   "metadata": {},
   "outputs": [],
   "source": [
    "min_x_value = np.min(edge_sobel)\n",
    "max_x_value = np.max(edge_sobel) / 4\n",
    "num_of_bins = 255\n",
    "bins = np.linspace(min_x_value, max_x_value, num_of_bins+1)\n",
    "\n",
    "_, axes = plt.subplots(ncols=2, figsize=(20,10))\n",
    "\n",
    "axes[0].imshow(edge_sobel, cmap=\"gray\")\n",
    "\n",
    "_ = axes[1].hist(edge_sobel.ravel(),\n",
    "            bins=bins,\n",
    "            log=False,\n",
    "            edgecolor='k')\n",
    "axes[1].axvline(thresh, color=\"red\")\n",
    "axes[1].grid()"
   ]
  },
  {
   "cell_type": "code",
   "execution_count": null,
   "metadata": {},
   "outputs": [],
   "source": [
    "\n",
    "img2d_grey = get_2d_slice(num, file_id=file_id)\n",
    "min_x_value = np.abs(np.min(img2d_grey))\n",
    "img2d_grey += min_x_value\n",
    "max_x_value = np.max(img2d_grey)/2 + min_x_value\n",
    "num_of_bins = 255\n",
    "bins = np.linspace(0, max_x_value, num_of_bins+1)\n",
    "\n",
    "fig, axes = plt.subplots(ncols=2, nrows=5, figsize=(25,63), constrained_layout=True)\n",
    "fig.suptitle('Low percentile VS Sobel', fontsize=16)\n",
    "axes = axes.ravel()\n",
    "\n",
    "axes[0].imshow(img2d_grey, cmap=\"gray\")\n",
    "\n",
    "line_img = img2d_grey.ravel()\n",
    "\n",
    "_ = axes[1].hist(line_img,\n",
    "                 bins=bins,\n",
    "                 log=False,\n",
    "                 edgecolor='k')\n",
    "\n",
    "low_percentile = 2\n",
    "thresh_low = np.percentile(line_img, low_percentile)\n",
    "\n",
    "axes[1].axvline(thresh_low, color=\"green\", label=f\"{low_percentile} percentile = {thresh_low:.5f}\")\n",
    "axes[1].grid()\n",
    "axes[1].legend()\n",
    "\n",
    "min_x_value = np.min(edge_sobel)\n",
    "max_x_value = np.max(edge_sobel) / 2\n",
    "num_of_bins = 255\n",
    "bins = np.linspace(min_x_value, max_x_value, num_of_bins+1)\n",
    "\n",
    "axes[2].imshow(edge_sobel, cmap=\"gray\")\n",
    "axes[2].set_title(\"edge_sobel\")\n",
    "thresh_sobel = filters.threshold_otsu(edge_sobel) * 1.7\n",
    "\n",
    "_ = axes[3].hist(edge_sobel.ravel(),\n",
    "                 bins=bins,\n",
    "                 log=False,\n",
    "                 edgecolor='k')\n",
    "axes[3].axvline(thresh_sobel, color=\"red\")\n",
    "axes[3].grid()\n",
    "\n",
    "axes[4].imshow(img2d_grey<thresh_low, cmap=\"gray\")\n",
    "axes[4].set_title(f\"img2d_grey < {low_percentile} percentile\")\n",
    "\n",
    "img_bin_sobel = binary_fill_holes(edge_sobel>thresh_sobel)\n",
    "axes[5].imshow(img_bin_sobel, cmap=\"gray\")\n",
    "axes[5].set_title(f\"sobel > thresh_sobel\")\n",
    "\n",
    "bin_img = img2d_grey<thresh_low\n",
    "mask = np.ma.masked_where(~bin_img, bin_img)\n",
    "axes[6].imshow(img2d_grey, cmap=plt.cm.gray)\n",
    "axes[6].imshow(mask, cmap='hsv', interpolation='none')\n",
    "axes[6].set_title(f\"img2d_grey < {low_percentile} percentile\")\n",
    "\n",
    "mask = np.ma.masked_where(~img_bin_sobel, img_bin_sobel)\n",
    "axes[7].imshow(img2d_grey, cmap=plt.cm.gray)\n",
    "axes[7].imshow(mask, cmap='hsv', interpolation='none')\n",
    "axes[7].set_title(f\"edge_sobel > thresh_sobel\")\n",
    "\n",
    "window_size = 300\n",
    "window_center = (1500, 2000)\n",
    "\n",
    "bin_img = crop(img2d_grey<thresh_low, (window_size, window_size), window_center)\n",
    "mask = np.ma.masked_where(~bin_img, bin_img)\n",
    "axes[8].imshow(crop(img2d_grey, (window_size, window_size), window_center), cmap=plt.cm.gray)\n",
    "axes[8].imshow(mask, cmap='hsv', alpha=0.4, interpolation='none')\n",
    "axes[8].set_title(f\"img2d_grey < {low_percentile} percentile\")\n",
    "\n",
    "bin_img =  crop(img_bin_sobel, (window_size, window_size), window_center)\n",
    "mask = np.ma.masked_where(~bin_img, bin_img)\n",
    "axes[9].imshow(crop(img2d_grey, (window_size, window_size), window_center), cmap=plt.cm.gray)\n",
    "axes[9].imshow(mask, cmap='hsv', alpha=0.4, interpolation='none')\n",
    "axes[9].set_title(f\" edge_sobel>thresh_sobel\")"
   ]
  },
  {
   "source": [
    "# Report"
   ],
   "cell_type": "markdown",
   "metadata": {}
  },
  {
   "cell_type": "code",
   "execution_count": null,
   "metadata": {},
   "outputs": [],
   "source": [
    "file_id='123498'\n",
    "fig, ax = plt.subplots(figsize=(10, 10))\n",
    "num = 2000 # 320\n",
    "img2d_grey = get_2d_slice(num, file_id=file_id) # img3d[num]\n",
    "ax.imshow(img2d_grey, cmap=\"gray\")\n",
    "ax.axis(\"off\")"
   ]
  },
  {
   "cell_type": "code",
   "execution_count": null,
   "metadata": {},
   "outputs": [],
   "source": [
    "percentile = 0.5\n",
    "thresh_low = np.percentile(img2d_grey.ravel(), percentile)\n",
    "\n",
    "img2d = img2d_grey < thresh_low\n",
    "\n",
    "max_pore_volume = 225\n",
    "min_pore_volume = 2\n",
    "img2d_edges = cpe.filter_pores_mask(img2d,\n",
    "                                    lowest_value = min_pore_volume,\n",
    "                                    highest_value = max_pore_volume)\n",
    "\n",
    "fig, ax = plt.subplots(figsize=(10, 10))\n",
    "ax.imshow(img2d_edges, cmap=\"gray\")"
   ]
  },
  {
   "cell_type": "code",
   "execution_count": null,
   "metadata": {},
   "outputs": [],
   "source": [
    "fig, ax = plt.subplots(figsize=(10, 10))\n",
    "#ax.imshow(3*img2d+img3d_pseudo_lsv[1], cmap=plt.cm.nipy_spectral)\n",
    "ax.imshow(img2d_grey, cmap=plt.cm.gray)\n",
    "mask = np.ma.masked_where(img2d_edges < 1, img2d_edges)\n",
    "ax.imshow(mask, cmap='hsv', interpolation='none')\n",
    "ax.axis()"
   ]
  },
  {
   "cell_type": "code",
   "execution_count": null,
   "metadata": {},
   "outputs": [],
   "source": [
    "plots=20\n",
    "fig, axes = plt.subplots(ncols=2, nrows=plots, figsize=(7, 3.5*plots), constrained_layout=True)\n",
    "fig.suptitle(f'Comparison of random squares. Pore volume: max={max_pore_volume}; min={min_pore_volume}', fontsize=16)\n",
    "axes= axes.ravel()\n",
    "#ax.imshow(3*img2d+img3d_pseudo_lsv[1], cmap=plt.cm.nipy_spectral)\n",
    "window_size = 400\n",
    "\n",
    "for i, ax in enumerate(axes):\n",
    "    if i % 2 == 0:\n",
    "        center_coords = np.asarray([np.random.randint(window_size//2+1, img2d_grey.shape[0]-window_size//2-1),\n",
    "                                    np.random.randint(window_size//2+1, img2d_grey.shape[0]-window_size//2-1)])\n",
    "                                    \n",
    "        img_2d_gray_frag = crop(img2d_grey, (window_size, window_size), center_coords)\n",
    "        ax.imshow(img_2d_gray_frag, cmap=plt.cm.gray)\n",
    "        axes[i+1].imshow(img_2d_gray_frag, cmap=plt.cm.gray)\n",
    "        img2d_edges_frag = crop(img2d_edges, (window_size, window_size), center_coords)\n",
    "        mask = np.ma.masked_where(img2d_edges_frag < 1, img2d_edges_frag)\n",
    "        ax.imshow(mask, cmap='hsv', interpolation='none')\n",
    "    ax.axis(\"off\")\n",
    "    "
   ]
  },
  {
   "cell_type": "code",
   "execution_count": null,
   "metadata": {},
   "outputs": [],
   "source": [
    "cpe.plot_pore_size_histogram(img2d_edges,\n",
    "                             structure_neighbors_num=6,\n",
    "                             size_type=\"diameter\",\n",
    "                             num_of_bins=50,\n",
    "                             max_x_value=None,\n",
    "                             min_x_value=2,\n",
    "                             pixel_size_mkm=0.8125,\n",
    "                             add_median=True,\n",
    "                             add_mean=True,\n",
    "                             log_scale=False,\n",
    "                             save_plot=False)"
   ]
  },
  {
   "cell_type": "code",
   "execution_count": null,
   "metadata": {},
   "outputs": [],
   "source": [
    "cpe.plot_pore_size_histogram(img2d_edges,\n",
    "                             structure_neighbors_num=6,\n",
    "                             size_type=\"volume\",\n",
    "                             num_of_bins=100,\n",
    "                             max_x_value=None,\n",
    "                             min_x_value=None,\n",
    "                             pixel_size_mkm=0.8125,\n",
    "                             add_median=True,\n",
    "                             add_mean=True,\n",
    "                             log_scale=False,\n",
    "                             save_plot=False)"
   ]
  },
  {
   "source": [
    "# STATISTICS"
   ],
   "cell_type": "markdown",
   "metadata": {}
  },
  {
   "cell_type": "code",
   "execution_count": null,
   "metadata": {},
   "outputs": [],
   "source": [
    "def get_img2d_pores(img2d_grey,\n",
    "                    percentile = 0.5,\n",
    "                    min_pore_volume = 2,\n",
    "                    max_pore_volume = 225):\n",
    "    thresh_low = np.percentile(img2d_grey.ravel(), percentile)\n",
    "    img2d_bin = img2d_grey < thresh_low\n",
    "    img2d_pores = cpe.filter_pores_mask(img2d_bin,\n",
    "                                        lowest_value = min_pore_volume,\n",
    "                                        highest_value = max_pore_volume)\n",
    "    return img2d_pores\n",
    "    "
   ]
  },
  {
   "cell_type": "code",
   "execution_count": null,
   "metadata": {},
   "outputs": [],
   "source": [
    "def calc_histogram(img2d_pores, pixel_size_mkm, num_of_bins, min_x_value=2, max_x_value=None):\n",
    "    pixel_size_mkm=0.8125\n",
    "    pore_volume_distribution = cpe.get_pore_volume_distribution(img2d_pores, 6) * pixel_size_mkm\n",
    "    if not max_x_value:\n",
    "        max_x_value = np.max(pore_volume_distribution)\n",
    "    bins = np.linspace(min_x_value-1, max_x_value, num_of_bins+1)\n",
    "    return np.histogram(pore_volume_distribution, bins=bins)"
   ]
  },
  {
   "cell_type": "code",
   "execution_count": null,
   "metadata": {},
   "outputs": [],
   "source": [
    "def plot_error_hist(hist, bins, stats=None, fontsize=25):\n",
    "    \"\"\"\n",
    "    stats = dict(unit_name=\"\", size_type=\"\", min_x_value, max_x_value)\n",
    "    \"\"\"\n",
    "    fig, ax = plt.subplots(figsize=(10,10))\n",
    "    #plt.rcParams.update({'font.size': fontsize})\n",
    "    width = np.diff(bins)\n",
    "    center = (bins[:-1] + bins[1:]) / 2\n",
    "\n",
    "    ax.bar(center,\n",
    "           hist, \n",
    "           align='center',\n",
    "           width=width,\n",
    "           edgecolor ='k',\n",
    "           yerr=10,\n",
    "           ecolor='r',\n",
    "           error_kw=dict(capsize=3))\n",
    "    ax.set_ylabel(\"count\")\n",
    "\n",
    "    if stats:\n",
    "        stats = (f'MAX pore {stats[\"size_type\"]} = {stats[\"max_x_value\"]:.2f} {stats[\"unit_name\"]}\\n'\n",
    "                 f'MIN pore {stats[\"size_type\"]} = {stats[\"min_x_value\"]:.2f} {stats[\"unit_name\"]}\\n')\n",
    "        #ax.set_xlabel(stats[\"unit_name\"])\n",
    "        bbox = dict(boxstyle='round', fc='blanchedalmond', ec='orange', alpha=0.35)\n",
    "        ax.text(0.95,\n",
    "                0.5,\n",
    "                stats,\n",
    "                fontsize=fontsize,\n",
    "                bbox=bbox,\n",
    "                transform=ax.transAxes, horizontalalignment='right')\n",
    "    ax.grid()\n",
    "\n",
    "    # return fig"
   ]
  },
  {
   "cell_type": "code",
   "execution_count": null,
   "metadata": {},
   "outputs": [],
   "source": [
    "img2d_pores = get_img2d_pores(img2d_grey,\n",
    "                              percentile = 0.5,\n",
    "                              min_pore_volume = 2,\n",
    "                              max_pore_volume = 225)\n"
   ]
  },
  {
   "cell_type": "code",
   "execution_count": null,
   "metadata": {},
   "outputs": [],
   "source": [
    "hist, bins = calc_histogram(img2d_pores, 0.8125, num_of_bins=50)"
   ]
  },
  {
   "cell_type": "code",
   "execution_count": null,
   "metadata": {},
   "outputs": [],
   "source": [
    "stats = dict(unit_name=\"mkm\", size_type=\"volumes\", min_x_value=2, max_x_value=225)\n",
    "\n",
    "plot_error_hist(hist, bins, stats)"
   ]
  },
  {
   "cell_type": "code",
   "execution_count": null,
   "metadata": {},
   "outputs": [],
   "source": [
    "plot_error_hist(hist, bins, stats)"
   ]
  },
  {
   "cell_type": "code",
   "execution_count": null,
   "metadata": {},
   "outputs": [],
   "source": [
    "a = [[1,1,1,1],\n",
    "    [2,3,4,5]]\n",
    "np.std(a, axis=0)"
   ]
  },
  {
   "cell_type": "code",
   "execution_count": null,
   "metadata": {},
   "outputs": [],
   "source": []
  },
  {
   "cell_type": "code",
   "execution_count": null,
   "metadata": {},
   "outputs": [],
   "source": []
  }
 ]
}