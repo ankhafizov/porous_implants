{
 "metadata": {
  "language_info": {
   "codemirror_mode": {
    "name": "ipython",
    "version": 3
   },
   "file_extension": ".py",
   "mimetype": "text/x-python",
   "name": "python",
   "nbconvert_exporter": "python",
   "pygments_lexer": "ipython3",
   "version": "3.7.4-final"
  },
  "orig_nbformat": 2,
  "kernelspec": {
   "name": "python3",
   "display_name": "Python 3",
   "language": "python"
  }
 },
 "nbformat": 4,
 "nbformat_minor": 2,
 "cells": [
  {
   "cell_type": "code",
   "execution_count": null,
   "metadata": {},
   "outputs": [],
   "source": [
    "import matplotlib.pyplot as plt\n",
    "import numpy as np\n",
    "from scipy.ndimage.morphology import binary_closing, binary_fill_holes\n",
    "from skimage import exposure\n",
    "import closed_pores_evaluation as cpe\n",
    "from file_paths import get_path\n",
    "from pathlib import Path\n",
    "from PIL import Image"
   ]
  },
  {
   "cell_type": "code",
   "execution_count": null,
   "metadata": {},
   "outputs": [],
   "source": [
    "def get_2d_slice(num, file_id):\n",
    "    data_folder = get_path(file_id)\n",
    "\n",
    "    file_names = Path(data_folder).glob('*.tiff')\n",
    "    file_names = list(file_names)\n",
    "    img2d_gray = np.array(Image.open(file_names[num]))\n",
    "\n",
    "    return img2d_gray"
   ]
  },
  {
   "cell_type": "code",
   "execution_count": null,
   "metadata": {},
   "outputs": [],
   "source": [
    "file_id='123493'\n",
    "fig, ax = plt.subplots(figsize=(10, 10))\n",
    "num = 500 # 320\n",
    "img2d_grey = get_2d_slice(num, file_id=file_id) # img3d[num]\n",
    "ax.imshow(img2d_grey, cmap=\"gray\")\n",
    "ax.axis(\"off\")"
   ]
  },
  {
   "cell_type": "code",
   "execution_count": null,
   "metadata": {},
   "outputs": [],
   "source": [
    "img_equalized = exposure.equalize_hist(img2d_grey)"
   ]
  },
  {
   "cell_type": "code",
   "execution_count": null,
   "metadata": {},
   "outputs": [],
   "source": [
    "img_equalized_binarized = img_equalized>0.5\n",
    "\n",
    "mask = cpe.find_mask_longest_contours(~img_equalized_binarized,\n",
    "                                      filter_by_contour_length=True,\n",
    "                                      min_contour_length = 2500,\n",
    "                                      max_number_of_contours=None\n",
    "                                      )"
   ]
  },
  {
   "cell_type": "code",
   "execution_count": null,
   "metadata": {},
   "outputs": [],
   "source": [
    "fig, axes = plt.subplots(nrows=2, ncols=2, figsize=(20, 20), constrained_layout=True)\n",
    "axes = axes.ravel()\n",
    "for ax in axes:\n",
    "    ax.axis(\"off\")\n",
    "axes[0].imshow(mask, cmap=\"gray\")\n",
    "\n",
    "axes[1].imshow(binary_fill_holes(mask), cmap=\"gray\")\n",
    "axes[1].set_title(f\"contours were here\")\n",
    "\n",
    "axes[2].imshow(img2d_grey, cmap=\"gray\")\n",
    "\n",
    "mask_f = binary_fill_holes(mask)\n",
    "axes[3].imshow(img2d_grey, cmap=\"gray\")\n",
    "axes[3].imshow(np.ma.masked_where(mask_f < 1, mask_f), cmap='hsv', alpha=0.3, interpolation='none')\n",
    "axes[3].set_title('without_boarders')"
   ]
  },
  {
   "source": [
    "# gradint trial"
   ],
   "cell_type": "markdown",
   "metadata": {}
  },
  {
   "cell_type": "code",
   "execution_count": null,
   "metadata": {},
   "outputs": [],
   "source": [
    "file_id='123493'\n",
    "fig, ax = plt.subplots(figsize=(10, 10))\n",
    "num = 500 # 320\n",
    "img2d_grey = get_2d_slice(num, file_id=file_id) # img3d[num]\n",
    "ax.imshow(img2d_grey, cmap=\"gray\")\n",
    "ax.axis(\"off\")"
   ]
  },
  {
   "cell_type": "code",
   "execution_count": null,
   "metadata": {},
   "outputs": [],
   "source": [
    "fig.savefig('plots\\colab_123493', bbox_inches='tight', pad_inches=0)"
   ]
  },
  {
   "cell_type": "code",
   "execution_count": null,
   "metadata": {},
   "outputs": [],
   "source": [
    "img_equalized = exposure.equalize_hist(img2d_grey)\n",
    "\n",
    "fig, ax = plt.subplots(figsize=(10, 10))\n",
    "ax.imshow(img_equalized, cmap=\"gray\")\n",
    "ax.axis(\"off\")"
   ]
  },
  {
   "cell_type": "code",
   "execution_count": null,
   "metadata": {},
   "outputs": [],
   "source": [
    "from scipy.ndimage import sobel"
   ]
  },
  {
   "cell_type": "code",
   "execution_count": null,
   "metadata": {},
   "outputs": [],
   "source": [
    "def gradient(img):\n",
    "    sx = sobel(img, axis=0, mode='constant')\n",
    "    sy = sobel(img, axis=1, mode='constant')\n",
    "    return np.hypot(sx,sy)"
   ]
  },
  {
   "cell_type": "code",
   "execution_count": null,
   "metadata": {},
   "outputs": [],
   "source": [
    "img_equalized_grad = gradient(img_equalized)\n",
    "img_equalized_laplas = gradient(img_equalized_grad)\n",
    "\n",
    "fig, axes = plt.subplots(ncols=3, nrows=2, figsize=(30, 20), constrained_layout=True)\n",
    "axes[0, 0].imshow(img_equalized, cmap=\"gray\")\n",
    "axes[0, 1].imshow(img_equalized_grad, cmap=\"gray\")\n",
    "axes[0, 2].imshow(img_equalized_laplas, cmap=\"gray\")\n",
    "\n",
    "axes[1, 0].hist(img_equalized.flatten(), bins=255)\n",
    "axes[1, 1].hist(img_equalized_grad.flatten(), bins=255)\n",
    "axes[1, 2].hist(img_equalized_laplas.flatten(), bins=255)\n",
    "# axes[0].axis(\"off\")"
   ]
  },
  {
   "cell_type": "code",
   "execution_count": null,
   "metadata": {},
   "outputs": [],
   "source": [
    "+2"
   ]
  },
  {
   "cell_type": "code",
   "execution_count": null,
   "metadata": {},
   "outputs": [],
   "source": [
    "fig, ax = plt.subplots(figsize=(10, 10))\n",
    "ax.imshow(exposure.equalize_hist(img_equalized_grad), cmap=\"gray\")\n",
    "ax.axis(\"off\")"
   ]
  },
  {
   "cell_type": "code",
   "execution_count": null,
   "metadata": {},
   "outputs": [],
   "source": [
    "coef = np.max(img_equalized_grad) - np.min(img_equalized_grad) "
   ]
  },
  {
   "cell_type": "code",
   "execution_count": null,
   "metadata": {},
   "outputs": [],
   "source": [
    "fig, ax = plt.subplots(figsize=(10, 10))\n",
    "ax.imshow(img_equalized_grad>0.7*coef, cmap=\"gray\")\n",
    "ax.axis(\"off\")"
   ]
  },
  {
   "cell_type": "code",
   "execution_count": null,
   "metadata": {},
   "outputs": [],
   "source": []
  }
 ]
}